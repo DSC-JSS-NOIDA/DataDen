{
 "cells": [
  {
   "cell_type": "code",
   "execution_count": 4,
   "metadata": {},
   "outputs": [
    {
     "ename": "ModuleNotFoundError",
     "evalue": "No module named 'xgboost'",
     "output_type": "error",
     "traceback": [
      "\u001b[1;31m---------------------------------------------------------------------------\u001b[0m",
      "\u001b[1;31mModuleNotFoundError\u001b[0m                       Traceback (most recent call last)",
      "\u001b[1;32mc:\\Users\\ASUS\\DataDen\\Uber Fare Calculatio\\model\\uber.ipynb Cell 1\u001b[0m line \u001b[0;36m3\n\u001b[0;32m      <a href='vscode-notebook-cell:/c%3A/Users/ASUS/DataDen/Uber%20Fare%20Calculatio/model/uber.ipynb#W1sZmlsZQ%3D%3D?line=0'>1</a>\u001b[0m \u001b[39mimport\u001b[39;00m \u001b[39mpandas\u001b[39;00m \u001b[39mas\u001b[39;00m \u001b[39mpd\u001b[39;00m\n\u001b[0;32m      <a href='vscode-notebook-cell:/c%3A/Users/ASUS/DataDen/Uber%20Fare%20Calculatio/model/uber.ipynb#W1sZmlsZQ%3D%3D?line=1'>2</a>\u001b[0m \u001b[39mimport\u001b[39;00m \u001b[39mnumpy\u001b[39;00m \u001b[39mas\u001b[39;00m \u001b[39mnp\u001b[39;00m\n\u001b[1;32m----> <a href='vscode-notebook-cell:/c%3A/Users/ASUS/DataDen/Uber%20Fare%20Calculatio/model/uber.ipynb#W1sZmlsZQ%3D%3D?line=2'>3</a>\u001b[0m \u001b[39mimport\u001b[39;00m \u001b[39mxgboost\u001b[39;00m \u001b[39mas\u001b[39;00m \u001b[39mxgb\u001b[39;00m\n\u001b[0;32m      <a href='vscode-notebook-cell:/c%3A/Users/ASUS/DataDen/Uber%20Fare%20Calculatio/model/uber.ipynb#W1sZmlsZQ%3D%3D?line=3'>4</a>\u001b[0m \u001b[39mfrom\u001b[39;00m \u001b[39msklearn\u001b[39;00m\u001b[39m.\u001b[39;00m\u001b[39mmodel_selection\u001b[39;00m \u001b[39mimport\u001b[39;00m train_test_split\n\u001b[0;32m      <a href='vscode-notebook-cell:/c%3A/Users/ASUS/DataDen/Uber%20Fare%20Calculatio/model/uber.ipynb#W1sZmlsZQ%3D%3D?line=4'>5</a>\u001b[0m \u001b[39mfrom\u001b[39;00m \u001b[39msklearn\u001b[39;00m\u001b[39m.\u001b[39;00m\u001b[39mmetrics\u001b[39;00m \u001b[39mimport\u001b[39;00m mean_absolute_error\n",
      "\u001b[1;31mModuleNotFoundError\u001b[0m: No module named 'xgboost'"
     ]
    }
   ],
   "source": [
    "import pandas as pd\n",
    "import numpy as np\n",
    "import xgboost as xgb\n",
    "from sklearn.model_selection import train_test_split\n",
    "from sklearn.metrics import mean_absolute_error\n",
    "\n",
    "# Step 1: Data Preprocessing\n",
    "data = pd.read_csv('uber.csv')\n",
    "\n",
    "# Handle missing or incorrect data (if any)\n",
    "data.dropna(inplace=True)\n",
    "\n",
    "# Convert date-time strings to datetime objects\n",
    "data['pickup_datetime'] = pd.to_datetime(data['pickup_datetime'])\n",
    "\n",
    "# Calculate distance between pickup and dropoff\n",
    "def haversine_distance(lat1, lon1, lat2, lon2):\n",
    "    # Haversine formula to calculate distance\n",
    "    ...\n",
    "\n",
    "# Ensure the distance column contains numerical values\n",
    "data['distance'] = data.apply(lambda row: haversine_distance(row['pickup_latitude'], row['pickup_longitude'], row['dropoff_latitude'], row['dropoff_longitude']), axis=1)\n",
    "\n",
    "# Convert the distance column to a numerical data type (e.g., float)\n",
    "data['distance'] = data['distance'].astype(float)\n",
    "\n",
    "\n",
    "# Step 2: Feature Selection\n",
    "features = ['passenger_count', 'distance']\n",
    "target = 'fare_amount'\n",
    "\n",
    "# Step 3: Split Data\n",
    "X = data[features]\n",
    "y = data[target]\n",
    "X_train, X_test, y_train, y_test = train_test_split(X, y, test_size=0.2, random_state=42)\n",
    "\n",
    "# Step 4: Model Building\n",
    "model = xgb.XGBRegressor()\n",
    "\n",
    "# Step 5: Training\n",
    "model.fit(X_train, y_train)\n",
    "\n",
    "# Step 6: Prediction\n",
    "y_pred = model.predict(X_test)\n",
    "\n",
    "# Step 7: Evaluation\n",
    "mae = mean_absolute_error(y_test, y_pred)\n",
    "print(f\"Mean Absolute Error: {mae}\")\n",
    "\n",
    "# Step 8: User Input\n",
    "while True:\n",
    "    try:\n",
    "        passenger_count = int(input(\"Enter the number of passengers: \"))\n",
    "        distance = float(input(\"Enter the distance of travel in miles: \"))\n",
    "        break\n",
    "    except ValueError:\n",
    "        print(\"Invalid input. Please enter a valid number.\")\n",
    "\n",
    "# Create a DataFrame with the user input\n",
    "user_input = pd.DataFrame({'passenger_count': [passenger_count], 'distance': [distance]})\n",
    "\n",
    "# Step 9: Make Predictions for User Input\n",
    "fare_prediction = model.predict(user_input)\n",
    "\n",
    "# Step 10: Display the Prediction\n",
    "print(f\"Estimated fare amount: ${fare_prediction[0]:.2f}\")\n"
   ]
  }
 ],
 "metadata": {
  "kernelspec": {
   "display_name": "Python 3",
   "language": "python",
   "name": "python3"
  },
  "language_info": {
   "codemirror_mode": {
    "name": "ipython",
    "version": 3
   },
   "file_extension": ".py",
   "mimetype": "text/x-python",
   "name": "python",
   "nbconvert_exporter": "python",
   "pygments_lexer": "ipython3",
   "version": "3.10.11"
  }
 },
 "nbformat": 4,
 "nbformat_minor": 2
}
